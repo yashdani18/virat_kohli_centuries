{
 "cells": [
  {
   "cell_type": "code",
   "execution_count": 1,
   "id": "ca591d2d",
   "metadata": {},
   "outputs": [],
   "source": [
    "import pandas as pd"
   ]
  },
  {
   "cell_type": "code",
   "execution_count": 2,
   "id": "48325117",
   "metadata": {},
   "outputs": [
    {
     "data": {
      "text/html": [
       "<div>\n",
       "<style scoped>\n",
       "    .dataframe tbody tr th:only-of-type {\n",
       "        vertical-align: middle;\n",
       "    }\n",
       "\n",
       "    .dataframe tbody tr th {\n",
       "        vertical-align: top;\n",
       "    }\n",
       "\n",
       "    .dataframe thead th {\n",
       "        text-align: right;\n",
       "    }\n",
       "</style>\n",
       "<table border=\"1\" class=\"dataframe\">\n",
       "  <thead>\n",
       "    <tr style=\"text-align: right;\">\n",
       "      <th></th>\n",
       "      <th>No.</th>\n",
       "      <th>Runs</th>\n",
       "      <th>Against</th>\n",
       "      <th>Position</th>\n",
       "      <th>Innings</th>\n",
       "      <th>Venue</th>\n",
       "      <th>Ground</th>\n",
       "      <th>Date</th>\n",
       "      <th>Result</th>\n",
       "    </tr>\n",
       "  </thead>\n",
       "  <tbody>\n",
       "    <tr>\n",
       "      <th>0</th>\n",
       "      <td>1</td>\n",
       "      <td>107</td>\n",
       "      <td>Sri Lanka</td>\n",
       "      <td>4</td>\n",
       "      <td>2</td>\n",
       "      <td>Eden Gardens, Kolkata</td>\n",
       "      <td>Home</td>\n",
       "      <td>24-Dec-09</td>\n",
       "      <td>Won</td>\n",
       "    </tr>\n",
       "    <tr>\n",
       "      <th>1</th>\n",
       "      <td>2</td>\n",
       "      <td>102*</td>\n",
       "      <td>Bangladesh</td>\n",
       "      <td>3</td>\n",
       "      <td>2</td>\n",
       "      <td>Sher-e-Bangla Cricket Stadium, Dhaka</td>\n",
       "      <td>Away</td>\n",
       "      <td>11-Jan-10</td>\n",
       "      <td>Won</td>\n",
       "    </tr>\n",
       "    <tr>\n",
       "      <th>2</th>\n",
       "      <td>3</td>\n",
       "      <td>118</td>\n",
       "      <td>Australia</td>\n",
       "      <td>3</td>\n",
       "      <td>2</td>\n",
       "      <td>APCA-VDCA Stadium, Visakhapatnam</td>\n",
       "      <td>Home</td>\n",
       "      <td>20-Oct-10</td>\n",
       "      <td>Won</td>\n",
       "    </tr>\n",
       "    <tr>\n",
       "      <th>3</th>\n",
       "      <td>4</td>\n",
       "      <td>105</td>\n",
       "      <td>New Zealand</td>\n",
       "      <td>3</td>\n",
       "      <td>1</td>\n",
       "      <td>Nehru Stadium, Guwahati</td>\n",
       "      <td>Home</td>\n",
       "      <td>28-Nov-10</td>\n",
       "      <td>Won</td>\n",
       "    </tr>\n",
       "    <tr>\n",
       "      <th>4</th>\n",
       "      <td>5</td>\n",
       "      <td>100*</td>\n",
       "      <td>Bangladesh</td>\n",
       "      <td>4</td>\n",
       "      <td>1</td>\n",
       "      <td>Sher-e-Bangla Cricket Stadium, Dhaka</td>\n",
       "      <td>Away</td>\n",
       "      <td>19-Feb-11</td>\n",
       "      <td>Won</td>\n",
       "    </tr>\n",
       "    <tr>\n",
       "      <th>...</th>\n",
       "      <td>...</td>\n",
       "      <td>...</td>\n",
       "      <td>...</td>\n",
       "      <td>...</td>\n",
       "      <td>...</td>\n",
       "      <td>...</td>\n",
       "      <td>...</td>\n",
       "      <td>...</td>\n",
       "      <td>...</td>\n",
       "    </tr>\n",
       "    <tr>\n",
       "      <th>74</th>\n",
       "      <td>75</td>\n",
       "      <td>186</td>\n",
       "      <td>Australia</td>\n",
       "      <td>4</td>\n",
       "      <td>2</td>\n",
       "      <td>Narendra Modi Stadium, Ahmedabad</td>\n",
       "      <td>Home</td>\n",
       "      <td>9-Mar-23</td>\n",
       "      <td>Drawn</td>\n",
       "    </tr>\n",
       "    <tr>\n",
       "      <th>75</th>\n",
       "      <td>76</td>\n",
       "      <td>121</td>\n",
       "      <td>West Indies</td>\n",
       "      <td>4</td>\n",
       "      <td>1</td>\n",
       "      <td>Queen's Park Oval, Port of Spain</td>\n",
       "      <td>Away</td>\n",
       "      <td>20-Jul-23</td>\n",
       "      <td>Drawn</td>\n",
       "    </tr>\n",
       "    <tr>\n",
       "      <th>76</th>\n",
       "      <td>77</td>\n",
       "      <td>122*</td>\n",
       "      <td>Pakistan</td>\n",
       "      <td>3</td>\n",
       "      <td>1</td>\n",
       "      <td>R. Premadasa Stadium, Colombo</td>\n",
       "      <td>Neutral</td>\n",
       "      <td>11-Sep-23</td>\n",
       "      <td>Won</td>\n",
       "    </tr>\n",
       "    <tr>\n",
       "      <th>77</th>\n",
       "      <td>78</td>\n",
       "      <td>103*</td>\n",
       "      <td>Bangladesh</td>\n",
       "      <td>3</td>\n",
       "      <td>2</td>\n",
       "      <td>Maharashtra Cricket Association Stadium, Pune</td>\n",
       "      <td>Home</td>\n",
       "      <td>19-Oct-23</td>\n",
       "      <td>Won</td>\n",
       "    </tr>\n",
       "    <tr>\n",
       "      <th>78</th>\n",
       "      <td>79</td>\n",
       "      <td>101*</td>\n",
       "      <td>South Africa</td>\n",
       "      <td>3</td>\n",
       "      <td>1</td>\n",
       "      <td>Eden Gardens, Kolkata</td>\n",
       "      <td>Home</td>\n",
       "      <td>5-Nov</td>\n",
       "      <td>Won</td>\n",
       "    </tr>\n",
       "  </tbody>\n",
       "</table>\n",
       "<p>79 rows × 9 columns</p>\n",
       "</div>"
      ],
      "text/plain": [
       "    No.   Runs       Against  Position  Innings  \\\n",
       "0     1    107     Sri Lanka         4        2   \n",
       "1     2  102*     Bangladesh         3        2   \n",
       "2     3    118     Australia         3        2   \n",
       "3     4    105   New Zealand         3        1   \n",
       "4     5   100*    Bangladesh         4        1   \n",
       "..  ...    ...           ...       ...      ...   \n",
       "74   75    186     Australia         4        2   \n",
       "75   76    121   West Indies         4        1   \n",
       "76   77   122*      Pakistan         3        1   \n",
       "77   78   103*    Bangladesh         3        2   \n",
       "78   79   101*  South Africa         3        1   \n",
       "\n",
       "                                            Venue   Ground       Date Result  \n",
       "0                           Eden Gardens, Kolkata     Home  24-Dec-09    Won  \n",
       "1            Sher-e-Bangla Cricket Stadium, Dhaka     Away  11-Jan-10    Won  \n",
       "2                APCA-VDCA Stadium, Visakhapatnam     Home  20-Oct-10    Won  \n",
       "3                         Nehru Stadium, Guwahati     Home  28-Nov-10    Won  \n",
       "4            Sher-e-Bangla Cricket Stadium, Dhaka     Away  19-Feb-11    Won  \n",
       "..                                            ...      ...        ...    ...  \n",
       "74               Narendra Modi Stadium, Ahmedabad     Home   9-Mar-23  Drawn  \n",
       "75               Queen's Park Oval, Port of Spain     Away  20-Jul-23  Drawn  \n",
       "76                  R. Premadasa Stadium, Colombo  Neutral  11-Sep-23    Won  \n",
       "77  Maharashtra Cricket Association Stadium, Pune     Home  19-Oct-23    Won  \n",
       "78                          Eden Gardens, Kolkata     Home      5-Nov    Won  \n",
       "\n",
       "[79 rows x 9 columns]"
      ]
     },
     "execution_count": 2,
     "metadata": {},
     "output_type": "execute_result"
    }
   ],
   "source": [
    "df = pd.read_csv('Virat-Kohli-International-Cricket-Centuries.csv')\n",
    "df"
   ]
  },
  {
   "cell_type": "markdown",
   "id": "39a6dc30",
   "metadata": {},
   "source": [
    "#### Reformatting columns for uniform access"
   ]
  },
  {
   "cell_type": "code",
   "execution_count": 3,
   "id": "593ee869",
   "metadata": {},
   "outputs": [
    {
     "data": {
      "text/plain": [
       "Index(['no.', 'runs', 'against', 'position', 'innings', 'venue', 'ground',\n",
       "       'date', 'result'],\n",
       "      dtype='object')"
      ]
     },
     "execution_count": 3,
     "metadata": {},
     "output_type": "execute_result"
    }
   ],
   "source": [
    "df.columns = [x.lower() for x in df.columns]\n",
    "df.columns"
   ]
  },
  {
   "cell_type": "code",
   "execution_count": 4,
   "id": "3c00b4a4",
   "metadata": {},
   "outputs": [
    {
     "data": {
      "text/html": [
       "<div>\n",
       "<style scoped>\n",
       "    .dataframe tbody tr th:only-of-type {\n",
       "        vertical-align: middle;\n",
       "    }\n",
       "\n",
       "    .dataframe tbody tr th {\n",
       "        vertical-align: top;\n",
       "    }\n",
       "\n",
       "    .dataframe thead th {\n",
       "        text-align: right;\n",
       "    }\n",
       "</style>\n",
       "<table border=\"1\" class=\"dataframe\">\n",
       "  <thead>\n",
       "    <tr style=\"text-align: right;\">\n",
       "      <th></th>\n",
       "      <th>no</th>\n",
       "      <th>runs</th>\n",
       "      <th>against</th>\n",
       "      <th>position</th>\n",
       "      <th>innings</th>\n",
       "      <th>venue</th>\n",
       "      <th>ground</th>\n",
       "      <th>date</th>\n",
       "      <th>result</th>\n",
       "    </tr>\n",
       "  </thead>\n",
       "  <tbody>\n",
       "    <tr>\n",
       "      <th>0</th>\n",
       "      <td>1</td>\n",
       "      <td>107</td>\n",
       "      <td>Sri Lanka</td>\n",
       "      <td>4</td>\n",
       "      <td>2</td>\n",
       "      <td>Eden Gardens, Kolkata</td>\n",
       "      <td>Home</td>\n",
       "      <td>24-Dec-09</td>\n",
       "      <td>Won</td>\n",
       "    </tr>\n",
       "    <tr>\n",
       "      <th>1</th>\n",
       "      <td>2</td>\n",
       "      <td>102*</td>\n",
       "      <td>Bangladesh</td>\n",
       "      <td>3</td>\n",
       "      <td>2</td>\n",
       "      <td>Sher-e-Bangla Cricket Stadium, Dhaka</td>\n",
       "      <td>Away</td>\n",
       "      <td>11-Jan-10</td>\n",
       "      <td>Won</td>\n",
       "    </tr>\n",
       "    <tr>\n",
       "      <th>2</th>\n",
       "      <td>3</td>\n",
       "      <td>118</td>\n",
       "      <td>Australia</td>\n",
       "      <td>3</td>\n",
       "      <td>2</td>\n",
       "      <td>APCA-VDCA Stadium, Visakhapatnam</td>\n",
       "      <td>Home</td>\n",
       "      <td>20-Oct-10</td>\n",
       "      <td>Won</td>\n",
       "    </tr>\n",
       "    <tr>\n",
       "      <th>3</th>\n",
       "      <td>4</td>\n",
       "      <td>105</td>\n",
       "      <td>New Zealand</td>\n",
       "      <td>3</td>\n",
       "      <td>1</td>\n",
       "      <td>Nehru Stadium, Guwahati</td>\n",
       "      <td>Home</td>\n",
       "      <td>28-Nov-10</td>\n",
       "      <td>Won</td>\n",
       "    </tr>\n",
       "    <tr>\n",
       "      <th>4</th>\n",
       "      <td>5</td>\n",
       "      <td>100*</td>\n",
       "      <td>Bangladesh</td>\n",
       "      <td>4</td>\n",
       "      <td>1</td>\n",
       "      <td>Sher-e-Bangla Cricket Stadium, Dhaka</td>\n",
       "      <td>Away</td>\n",
       "      <td>19-Feb-11</td>\n",
       "      <td>Won</td>\n",
       "    </tr>\n",
       "  </tbody>\n",
       "</table>\n",
       "</div>"
      ],
      "text/plain": [
       "   no   runs       against  position  innings  \\\n",
       "0   1    107     Sri Lanka         4        2   \n",
       "1   2  102*     Bangladesh         3        2   \n",
       "2   3    118     Australia         3        2   \n",
       "3   4    105   New Zealand         3        1   \n",
       "4   5   100*    Bangladesh         4        1   \n",
       "\n",
       "                                  venue ground       date result  \n",
       "0                 Eden Gardens, Kolkata   Home  24-Dec-09    Won  \n",
       "1  Sher-e-Bangla Cricket Stadium, Dhaka   Away  11-Jan-10    Won  \n",
       "2      APCA-VDCA Stadium, Visakhapatnam   Home  20-Oct-10    Won  \n",
       "3               Nehru Stadium, Guwahati   Home  28-Nov-10    Won  \n",
       "4  Sher-e-Bangla Cricket Stadium, Dhaka   Away  19-Feb-11    Won  "
      ]
     },
     "execution_count": 4,
     "metadata": {},
     "output_type": "execute_result"
    }
   ],
   "source": [
    "df.rename(columns={'no.': 'no'}, inplace=True)\n",
    "df.head()"
   ]
  },
  {
   "cell_type": "markdown",
   "id": "466d0e33",
   "metadata": {},
   "source": [
    "#### Inspect dtypes of all columns"
   ]
  },
  {
   "cell_type": "code",
   "execution_count": 5,
   "id": "06132721",
   "metadata": {},
   "outputs": [
    {
     "data": {
      "text/plain": [
       "no           int64\n",
       "runs        object\n",
       "against     object\n",
       "position     int64\n",
       "innings      int64\n",
       "venue       object\n",
       "ground      object\n",
       "date        object\n",
       "result      object\n",
       "dtype: object"
      ]
     },
     "execution_count": 5,
     "metadata": {},
     "output_type": "execute_result"
    }
   ],
   "source": [
    "df.dtypes"
   ]
  },
  {
   "cell_type": "markdown",
   "id": "5c12afa2",
   "metadata": {},
   "source": [
    "## Analysis:"
   ]
  },
  {
   "cell_type": "markdown",
   "id": "dc9ee057",
   "metadata": {},
   "source": [
    "#### set index"
   ]
  },
  {
   "cell_type": "code",
   "execution_count": 6,
   "id": "a9395484",
   "metadata": {},
   "outputs": [],
   "source": [
    "df = df.set_index('no')"
   ]
  },
  {
   "cell_type": "markdown",
   "id": "f883e961",
   "metadata": {},
   "source": [
    "#### *runs* column is of 'object' datatype which can be converted to int by removing the * (not out)"
   ]
  },
  {
   "cell_type": "code",
   "execution_count": 7,
   "id": "0e194a23",
   "metadata": {},
   "outputs": [
    {
     "data": {
      "text/html": [
       "<div>\n",
       "<style scoped>\n",
       "    .dataframe tbody tr th:only-of-type {\n",
       "        vertical-align: middle;\n",
       "    }\n",
       "\n",
       "    .dataframe tbody tr th {\n",
       "        vertical-align: top;\n",
       "    }\n",
       "\n",
       "    .dataframe thead th {\n",
       "        text-align: right;\n",
       "    }\n",
       "</style>\n",
       "<table border=\"1\" class=\"dataframe\">\n",
       "  <thead>\n",
       "    <tr style=\"text-align: right;\">\n",
       "      <th></th>\n",
       "      <th>runs</th>\n",
       "      <th>against</th>\n",
       "      <th>position</th>\n",
       "      <th>innings</th>\n",
       "      <th>venue</th>\n",
       "      <th>ground</th>\n",
       "      <th>date</th>\n",
       "      <th>result</th>\n",
       "      <th>dismissed</th>\n",
       "    </tr>\n",
       "    <tr>\n",
       "      <th>no</th>\n",
       "      <th></th>\n",
       "      <th></th>\n",
       "      <th></th>\n",
       "      <th></th>\n",
       "      <th></th>\n",
       "      <th></th>\n",
       "      <th></th>\n",
       "      <th></th>\n",
       "      <th></th>\n",
       "    </tr>\n",
       "  </thead>\n",
       "  <tbody>\n",
       "    <tr>\n",
       "      <th>1</th>\n",
       "      <td>107</td>\n",
       "      <td>Sri Lanka</td>\n",
       "      <td>4</td>\n",
       "      <td>2</td>\n",
       "      <td>Eden Gardens, Kolkata</td>\n",
       "      <td>Home</td>\n",
       "      <td>24-Dec-09</td>\n",
       "      <td>Won</td>\n",
       "      <td>True</td>\n",
       "    </tr>\n",
       "    <tr>\n",
       "      <th>2</th>\n",
       "      <td>102</td>\n",
       "      <td>Bangladesh</td>\n",
       "      <td>3</td>\n",
       "      <td>2</td>\n",
       "      <td>Sher-e-Bangla Cricket Stadium, Dhaka</td>\n",
       "      <td>Away</td>\n",
       "      <td>11-Jan-10</td>\n",
       "      <td>Won</td>\n",
       "      <td>False</td>\n",
       "    </tr>\n",
       "    <tr>\n",
       "      <th>3</th>\n",
       "      <td>118</td>\n",
       "      <td>Australia</td>\n",
       "      <td>3</td>\n",
       "      <td>2</td>\n",
       "      <td>APCA-VDCA Stadium, Visakhapatnam</td>\n",
       "      <td>Home</td>\n",
       "      <td>20-Oct-10</td>\n",
       "      <td>Won</td>\n",
       "      <td>True</td>\n",
       "    </tr>\n",
       "    <tr>\n",
       "      <th>4</th>\n",
       "      <td>105</td>\n",
       "      <td>New Zealand</td>\n",
       "      <td>3</td>\n",
       "      <td>1</td>\n",
       "      <td>Nehru Stadium, Guwahati</td>\n",
       "      <td>Home</td>\n",
       "      <td>28-Nov-10</td>\n",
       "      <td>Won</td>\n",
       "      <td>True</td>\n",
       "    </tr>\n",
       "    <tr>\n",
       "      <th>5</th>\n",
       "      <td>100</td>\n",
       "      <td>Bangladesh</td>\n",
       "      <td>4</td>\n",
       "      <td>1</td>\n",
       "      <td>Sher-e-Bangla Cricket Stadium, Dhaka</td>\n",
       "      <td>Away</td>\n",
       "      <td>19-Feb-11</td>\n",
       "      <td>Won</td>\n",
       "      <td>False</td>\n",
       "    </tr>\n",
       "  </tbody>\n",
       "</table>\n",
       "</div>"
      ],
      "text/plain": [
       "    runs       against  position  innings  \\\n",
       "no                                          \n",
       "1    107     Sri Lanka         4        2   \n",
       "2    102    Bangladesh         3        2   \n",
       "3    118     Australia         3        2   \n",
       "4    105   New Zealand         3        1   \n",
       "5    100    Bangladesh         4        1   \n",
       "\n",
       "                                   venue ground       date result  dismissed  \n",
       "no                                                                            \n",
       "1                  Eden Gardens, Kolkata   Home  24-Dec-09    Won       True  \n",
       "2   Sher-e-Bangla Cricket Stadium, Dhaka   Away  11-Jan-10    Won      False  \n",
       "3       APCA-VDCA Stadium, Visakhapatnam   Home  20-Oct-10    Won       True  \n",
       "4                Nehru Stadium, Guwahati   Home  28-Nov-10    Won       True  \n",
       "5   Sher-e-Bangla Cricket Stadium, Dhaka   Away  19-Feb-11    Won      False  "
      ]
     },
     "execution_count": 7,
     "metadata": {},
     "output_type": "execute_result"
    }
   ],
   "source": [
    "df['dismissed'] = ~df['runs'].str.contains('\\*')\n",
    "df['runs'] = df['runs'].apply(lambda x: x.strip()[0: -1] if x.strip()[-1] == '*' else x)\n",
    "df['runs'] = df['runs'].astype('int')\n",
    "df.head()"
   ]
  },
  {
   "cell_type": "markdown",
   "id": "bf8eb278",
   "metadata": {},
   "source": [
    "#### Create a new column 'City' by splitting venue at ','"
   ]
  },
  {
   "cell_type": "code",
   "execution_count": 8,
   "id": "1b71d257",
   "metadata": {},
   "outputs": [
    {
     "data": {
      "text/html": [
       "<div>\n",
       "<style scoped>\n",
       "    .dataframe tbody tr th:only-of-type {\n",
       "        vertical-align: middle;\n",
       "    }\n",
       "\n",
       "    .dataframe tbody tr th {\n",
       "        vertical-align: top;\n",
       "    }\n",
       "\n",
       "    .dataframe thead th {\n",
       "        text-align: right;\n",
       "    }\n",
       "</style>\n",
       "<table border=\"1\" class=\"dataframe\">\n",
       "  <thead>\n",
       "    <tr style=\"text-align: right;\">\n",
       "      <th></th>\n",
       "      <th>runs</th>\n",
       "      <th>against</th>\n",
       "      <th>position</th>\n",
       "      <th>innings</th>\n",
       "      <th>venue</th>\n",
       "      <th>ground</th>\n",
       "      <th>date</th>\n",
       "      <th>result</th>\n",
       "      <th>dismissed</th>\n",
       "      <th>city</th>\n",
       "    </tr>\n",
       "    <tr>\n",
       "      <th>no</th>\n",
       "      <th></th>\n",
       "      <th></th>\n",
       "      <th></th>\n",
       "      <th></th>\n",
       "      <th></th>\n",
       "      <th></th>\n",
       "      <th></th>\n",
       "      <th></th>\n",
       "      <th></th>\n",
       "      <th></th>\n",
       "    </tr>\n",
       "  </thead>\n",
       "  <tbody>\n",
       "    <tr>\n",
       "      <th>1</th>\n",
       "      <td>107</td>\n",
       "      <td>Sri Lanka</td>\n",
       "      <td>4</td>\n",
       "      <td>2</td>\n",
       "      <td>Eden Gardens, Kolkata</td>\n",
       "      <td>Home</td>\n",
       "      <td>24-Dec-09</td>\n",
       "      <td>Won</td>\n",
       "      <td>True</td>\n",
       "      <td>Kolkata</td>\n",
       "    </tr>\n",
       "    <tr>\n",
       "      <th>2</th>\n",
       "      <td>102</td>\n",
       "      <td>Bangladesh</td>\n",
       "      <td>3</td>\n",
       "      <td>2</td>\n",
       "      <td>Sher-e-Bangla Cricket Stadium, Dhaka</td>\n",
       "      <td>Away</td>\n",
       "      <td>11-Jan-10</td>\n",
       "      <td>Won</td>\n",
       "      <td>False</td>\n",
       "      <td>Dhaka</td>\n",
       "    </tr>\n",
       "    <tr>\n",
       "      <th>3</th>\n",
       "      <td>118</td>\n",
       "      <td>Australia</td>\n",
       "      <td>3</td>\n",
       "      <td>2</td>\n",
       "      <td>APCA-VDCA Stadium, Visakhapatnam</td>\n",
       "      <td>Home</td>\n",
       "      <td>20-Oct-10</td>\n",
       "      <td>Won</td>\n",
       "      <td>True</td>\n",
       "      <td>Visakhapatnam</td>\n",
       "    </tr>\n",
       "    <tr>\n",
       "      <th>4</th>\n",
       "      <td>105</td>\n",
       "      <td>New Zealand</td>\n",
       "      <td>3</td>\n",
       "      <td>1</td>\n",
       "      <td>Nehru Stadium, Guwahati</td>\n",
       "      <td>Home</td>\n",
       "      <td>28-Nov-10</td>\n",
       "      <td>Won</td>\n",
       "      <td>True</td>\n",
       "      <td>Guwahati</td>\n",
       "    </tr>\n",
       "    <tr>\n",
       "      <th>5</th>\n",
       "      <td>100</td>\n",
       "      <td>Bangladesh</td>\n",
       "      <td>4</td>\n",
       "      <td>1</td>\n",
       "      <td>Sher-e-Bangla Cricket Stadium, Dhaka</td>\n",
       "      <td>Away</td>\n",
       "      <td>19-Feb-11</td>\n",
       "      <td>Won</td>\n",
       "      <td>False</td>\n",
       "      <td>Dhaka</td>\n",
       "    </tr>\n",
       "  </tbody>\n",
       "</table>\n",
       "</div>"
      ],
      "text/plain": [
       "    runs       against  position  innings  \\\n",
       "no                                          \n",
       "1    107     Sri Lanka         4        2   \n",
       "2    102    Bangladesh         3        2   \n",
       "3    118     Australia         3        2   \n",
       "4    105   New Zealand         3        1   \n",
       "5    100    Bangladesh         4        1   \n",
       "\n",
       "                                   venue ground       date result  dismissed  \\\n",
       "no                                                                             \n",
       "1                  Eden Gardens, Kolkata   Home  24-Dec-09    Won       True   \n",
       "2   Sher-e-Bangla Cricket Stadium, Dhaka   Away  11-Jan-10    Won      False   \n",
       "3       APCA-VDCA Stadium, Visakhapatnam   Home  20-Oct-10    Won       True   \n",
       "4                Nehru Stadium, Guwahati   Home  28-Nov-10    Won       True   \n",
       "5   Sher-e-Bangla Cricket Stadium, Dhaka   Away  19-Feb-11    Won      False   \n",
       "\n",
       "             city  \n",
       "no                 \n",
       "1         Kolkata  \n",
       "2           Dhaka  \n",
       "3   Visakhapatnam  \n",
       "4        Guwahati  \n",
       "5           Dhaka  "
      ]
     },
     "execution_count": 8,
     "metadata": {},
     "output_type": "execute_result"
    }
   ],
   "source": [
    "df['city'] = df['venue'].apply(lambda x: x.split(',')[1].strip())\n",
    "df.head()"
   ]
  },
  {
   "cell_type": "markdown",
   "id": "f4ab24a6",
   "metadata": {},
   "source": [
    "#### Ground is 'object' datatype Home/Away/Neutral which can be converted to categorical data"
   ]
  },
  {
   "cell_type": "code",
   "execution_count": 9,
   "id": "30794aa1",
   "metadata": {},
   "outputs": [
    {
     "data": {
      "text/plain": [
       "Home       37\n",
       "Away       36\n",
       "Neutral     6\n",
       "Name: ground, dtype: int64"
      ]
     },
     "execution_count": 9,
     "metadata": {},
     "output_type": "execute_result"
    }
   ],
   "source": [
    "df['ground'].value_counts()"
   ]
  },
  {
   "cell_type": "code",
   "execution_count": 10,
   "id": "2d8cbc7b",
   "metadata": {},
   "outputs": [],
   "source": [
    "df['ground'] = df['ground'].astype('category')"
   ]
  },
  {
   "cell_type": "markdown",
   "id": "1eb871c1",
   "metadata": {},
   "source": [
    "#### Date is an 'object' datatype which can be converted to datetime format"
   ]
  },
  {
   "cell_type": "code",
   "execution_count": 11,
   "id": "bb27db98",
   "metadata": {},
   "outputs": [],
   "source": [
    "df.loc[df['date'] == '5-Nov', 'date'] = '5-Nov-23'"
   ]
  },
  {
   "cell_type": "code",
   "execution_count": 15,
   "id": "53483ec6",
   "metadata": {},
   "outputs": [
    {
     "data": {
      "text/html": [
       "<div>\n",
       "<style scoped>\n",
       "    .dataframe tbody tr th:only-of-type {\n",
       "        vertical-align: middle;\n",
       "    }\n",
       "\n",
       "    .dataframe tbody tr th {\n",
       "        vertical-align: top;\n",
       "    }\n",
       "\n",
       "    .dataframe thead th {\n",
       "        text-align: right;\n",
       "    }\n",
       "</style>\n",
       "<table border=\"1\" class=\"dataframe\">\n",
       "  <thead>\n",
       "    <tr style=\"text-align: right;\">\n",
       "      <th></th>\n",
       "      <th>runs</th>\n",
       "      <th>against</th>\n",
       "      <th>position</th>\n",
       "      <th>innings</th>\n",
       "      <th>venue</th>\n",
       "      <th>ground</th>\n",
       "      <th>date</th>\n",
       "      <th>result</th>\n",
       "      <th>dismissed</th>\n",
       "      <th>city</th>\n",
       "      <th>year</th>\n",
       "      <th>month</th>\n",
       "    </tr>\n",
       "    <tr>\n",
       "      <th>no</th>\n",
       "      <th></th>\n",
       "      <th></th>\n",
       "      <th></th>\n",
       "      <th></th>\n",
       "      <th></th>\n",
       "      <th></th>\n",
       "      <th></th>\n",
       "      <th></th>\n",
       "      <th></th>\n",
       "      <th></th>\n",
       "      <th></th>\n",
       "      <th></th>\n",
       "    </tr>\n",
       "  </thead>\n",
       "  <tbody>\n",
       "    <tr>\n",
       "      <th>1</th>\n",
       "      <td>107</td>\n",
       "      <td>Sri Lanka</td>\n",
       "      <td>4</td>\n",
       "      <td>2</td>\n",
       "      <td>Eden Gardens, Kolkata</td>\n",
       "      <td>Home</td>\n",
       "      <td>2009-12-24</td>\n",
       "      <td>Won</td>\n",
       "      <td>True</td>\n",
       "      <td>Kolkata</td>\n",
       "      <td>2009</td>\n",
       "      <td>12</td>\n",
       "    </tr>\n",
       "    <tr>\n",
       "      <th>2</th>\n",
       "      <td>102</td>\n",
       "      <td>Bangladesh</td>\n",
       "      <td>3</td>\n",
       "      <td>2</td>\n",
       "      <td>Sher-e-Bangla Cricket Stadium, Dhaka</td>\n",
       "      <td>Away</td>\n",
       "      <td>2010-01-11</td>\n",
       "      <td>Won</td>\n",
       "      <td>False</td>\n",
       "      <td>Dhaka</td>\n",
       "      <td>2010</td>\n",
       "      <td>1</td>\n",
       "    </tr>\n",
       "    <tr>\n",
       "      <th>3</th>\n",
       "      <td>118</td>\n",
       "      <td>Australia</td>\n",
       "      <td>3</td>\n",
       "      <td>2</td>\n",
       "      <td>APCA-VDCA Stadium, Visakhapatnam</td>\n",
       "      <td>Home</td>\n",
       "      <td>2010-10-20</td>\n",
       "      <td>Won</td>\n",
       "      <td>True</td>\n",
       "      <td>Visakhapatnam</td>\n",
       "      <td>2010</td>\n",
       "      <td>10</td>\n",
       "    </tr>\n",
       "    <tr>\n",
       "      <th>4</th>\n",
       "      <td>105</td>\n",
       "      <td>New Zealand</td>\n",
       "      <td>3</td>\n",
       "      <td>1</td>\n",
       "      <td>Nehru Stadium, Guwahati</td>\n",
       "      <td>Home</td>\n",
       "      <td>2010-11-28</td>\n",
       "      <td>Won</td>\n",
       "      <td>True</td>\n",
       "      <td>Guwahati</td>\n",
       "      <td>2010</td>\n",
       "      <td>11</td>\n",
       "    </tr>\n",
       "    <tr>\n",
       "      <th>5</th>\n",
       "      <td>100</td>\n",
       "      <td>Bangladesh</td>\n",
       "      <td>4</td>\n",
       "      <td>1</td>\n",
       "      <td>Sher-e-Bangla Cricket Stadium, Dhaka</td>\n",
       "      <td>Away</td>\n",
       "      <td>2011-02-19</td>\n",
       "      <td>Won</td>\n",
       "      <td>False</td>\n",
       "      <td>Dhaka</td>\n",
       "      <td>2011</td>\n",
       "      <td>2</td>\n",
       "    </tr>\n",
       "  </tbody>\n",
       "</table>\n",
       "</div>"
      ],
      "text/plain": [
       "    runs       against  position  innings  \\\n",
       "no                                          \n",
       "1    107     Sri Lanka         4        2   \n",
       "2    102    Bangladesh         3        2   \n",
       "3    118     Australia         3        2   \n",
       "4    105   New Zealand         3        1   \n",
       "5    100    Bangladesh         4        1   \n",
       "\n",
       "                                   venue ground       date result  dismissed  \\\n",
       "no                                                                             \n",
       "1                  Eden Gardens, Kolkata   Home 2009-12-24    Won       True   \n",
       "2   Sher-e-Bangla Cricket Stadium, Dhaka   Away 2010-01-11    Won      False   \n",
       "3       APCA-VDCA Stadium, Visakhapatnam   Home 2010-10-20    Won       True   \n",
       "4                Nehru Stadium, Guwahati   Home 2010-11-28    Won       True   \n",
       "5   Sher-e-Bangla Cricket Stadium, Dhaka   Away 2011-02-19    Won      False   \n",
       "\n",
       "             city  year  month  \n",
       "no                              \n",
       "1         Kolkata  2009     12  \n",
       "2           Dhaka  2010      1  \n",
       "3   Visakhapatnam  2010     10  \n",
       "4        Guwahati  2010     11  \n",
       "5           Dhaka  2011      2  "
      ]
     },
     "execution_count": 15,
     "metadata": {},
     "output_type": "execute_result"
    }
   ],
   "source": [
    "df['date'] = pd.to_datetime(df['date'], format=\"%d-%b-%y\")\n",
    "df['year'] = df['date'].dt.year\n",
    "df['month'] = df['date'].dt.month\n",
    "df.head()"
   ]
  },
  {
   "cell_type": "code",
   "execution_count": 13,
   "id": "cf5ef10d",
   "metadata": {},
   "outputs": [
    {
     "data": {
      "text/plain": [
       "runs                  int32\n",
       "against              object\n",
       "position              int64\n",
       "innings               int64\n",
       "venue                object\n",
       "ground             category\n",
       "date         datetime64[ns]\n",
       "result               object\n",
       "dismissed              bool\n",
       "city                 object\n",
       "dtype: object"
      ]
     },
     "execution_count": 13,
     "metadata": {},
     "output_type": "execute_result"
    }
   ],
   "source": [
    "df.dtypes"
   ]
  },
  {
   "cell_type": "markdown",
   "id": "b0584175",
   "metadata": {},
   "source": [
    "# Summary of changes to be made to existing df\n",
    "\n",
    "### Venue\n",
    "\n",
    "<hr>\n",
    "\n",
    "### Result\n",
    "#### Create new column with only 3 values - {Won, Lost, Drawn}\n",
    "<hr>"
   ]
  },
  {
   "cell_type": "markdown",
   "id": "c94c334b",
   "metadata": {},
   "source": [
    "# Data Pre-processing"
   ]
  },
  {
   "cell_type": "markdown",
   "id": "2ae67e61",
   "metadata": {},
   "source": []
  },
  {
   "cell_type": "markdown",
   "id": "0da2b94f",
   "metadata": {},
   "source": [
    "### In which year did he score the most number of centuries"
   ]
  },
  {
   "cell_type": "code",
   "execution_count": 17,
   "id": "af2ad0aa",
   "metadata": {},
   "outputs": [
    {
     "data": {
      "text/plain": [
       "2017"
      ]
     },
     "execution_count": 17,
     "metadata": {},
     "output_type": "execute_result"
    }
   ],
   "source": [
    "df['year'].value_counts().idxmax()"
   ]
  },
  {
   "cell_type": "markdown",
   "id": "5db9df7f",
   "metadata": {},
   "source": [
    "### In which month did he score the most number of centuries?"
   ]
  },
  {
   "cell_type": "code",
   "execution_count": 20,
   "id": "a18f2690",
   "metadata": {},
   "outputs": [
    {
     "data": {
      "text/plain": [
       "'October'"
      ]
     },
     "execution_count": 20,
     "metadata": {},
     "output_type": "execute_result"
    }
   ],
   "source": [
    "months = ['', \n",
    "          'January', 'February', 'March', 'April', 'May', 'June', \n",
    "          'July', 'August', 'September', 'October', 'November', 'December']\n",
    "months[df['month'].value_counts().idxmax()]"
   ]
  },
  {
   "cell_type": "markdown",
   "id": "b37bc3ed",
   "metadata": {},
   "source": [
    "### What was his highest score among all the matches that India won?"
   ]
  },
  {
   "cell_type": "code",
   "execution_count": 25,
   "id": "f3871d41",
   "metadata": {},
   "outputs": [
    {
     "data": {
      "text/plain": [
       "254"
      ]
     },
     "execution_count": 25,
     "metadata": {},
     "output_type": "execute_result"
    }
   ],
   "source": [
    "df.query('result == \"Won\"')['runs'].max()"
   ]
  },
  {
   "cell_type": "markdown",
   "id": "165dee3f",
   "metadata": {},
   "source": [
    "#### Since the dataset does not include a differentiation in ODI, Test, I20 matches, this question does not provide a reliable answer."
   ]
  },
  {
   "cell_type": "markdown",
   "id": "508eb970",
   "metadata": {},
   "source": [
    "What was his highest score among all the matches that India lost?"
   ]
  },
  {
   "cell_type": "markdown",
   "id": "6565cb78",
   "metadata": {},
   "source": [
    "### How many times did India win when he scored a century?"
   ]
  },
  {
   "cell_type": "code",
   "execution_count": 32,
   "id": "4d2cccc0",
   "metadata": {},
   "outputs": [
    {
     "data": {
      "text/plain": [
       "54"
      ]
     },
     "execution_count": 32,
     "metadata": {},
     "output_type": "execute_result"
    }
   ],
   "source": [
    "df['result'].value_counts()['Won']"
   ]
  },
  {
   "cell_type": "markdown",
   "id": "c73cd5ba",
   "metadata": {},
   "source": [
    "### Against which team did he score the most number of centuries?"
   ]
  },
  {
   "cell_type": "code",
   "execution_count": 35,
   "id": "49a62aec",
   "metadata": {},
   "outputs": [
    {
     "data": {
      "text/plain": [
       "'Australia'"
      ]
     },
     "execution_count": 35,
     "metadata": {},
     "output_type": "execute_result"
    }
   ],
   "source": [
    "df['against'].value_counts().idxmax().strip()"
   ]
  },
  {
   "cell_type": "markdown",
   "id": "e5eb0f35",
   "metadata": {},
   "source": [
    "### Against which team did he score the least number of centuries?"
   ]
  },
  {
   "cell_type": "code",
   "execution_count": 36,
   "id": "71b82de6",
   "metadata": {},
   "outputs": [
    {
     "data": {
      "text/plain": [
       "'Zimbabwe'"
      ]
     },
     "execution_count": 36,
     "metadata": {},
     "output_type": "execute_result"
    }
   ],
   "source": [
    "df['against'].value_counts().idxmin().strip()"
   ]
  },
  {
   "cell_type": "markdown",
   "id": "c03c07b3",
   "metadata": {},
   "source": [
    "### At which venue did he score the most number of centuries?"
   ]
  },
  {
   "cell_type": "code",
   "execution_count": 40,
   "id": "de09781e",
   "metadata": {},
   "outputs": [
    {
     "data": {
      "text/plain": [
       "'Adelaide Oval, Adelaide'"
      ]
     },
     "execution_count": 40,
     "metadata": {},
     "output_type": "execute_result"
    }
   ],
   "source": [
    "df['venue'].value_counts().idxmax().strip()"
   ]
  },
  {
   "cell_type": "code",
   "execution_count": 41,
   "id": "f7f7ff4b",
   "metadata": {},
   "outputs": [
    {
     "data": {
      "text/plain": [
       "'Adelaide'"
      ]
     },
     "execution_count": 41,
     "metadata": {},
     "output_type": "execute_result"
    }
   ],
   "source": [
    "df['city'].value_counts().idxmax().strip()"
   ]
  },
  {
   "cell_type": "markdown",
   "id": "e426ab74",
   "metadata": {},
   "source": [
    "### At which batting position did he score the most/least number of centuries?"
   ]
  },
  {
   "cell_type": "markdown",
   "id": "299b0836",
   "metadata": {},
   "source": [
    "How many times did he score more than 200 runs?"
   ]
  },
  {
   "cell_type": "markdown",
   "id": "f99132ac",
   "metadata": {},
   "source": [
    "How many centuries did he score at Home, Away, Neutral?"
   ]
  },
  {
   "cell_type": "code",
   "execution_count": null,
   "id": "11a7ae6f",
   "metadata": {},
   "outputs": [],
   "source": []
  },
  {
   "cell_type": "markdown",
   "id": "6527c199",
   "metadata": {},
   "source": [
    "### This is not a rich dataset"
   ]
  }
 ],
 "metadata": {
  "kernelspec": {
   "display_name": "Python 3 (ipykernel)",
   "language": "python",
   "name": "python3"
  },
  "language_info": {
   "codemirror_mode": {
    "name": "ipython",
    "version": 3
   },
   "file_extension": ".py",
   "mimetype": "text/x-python",
   "name": "python",
   "nbconvert_exporter": "python",
   "pygments_lexer": "ipython3",
   "version": "3.9.7"
  }
 },
 "nbformat": 4,
 "nbformat_minor": 5
}
